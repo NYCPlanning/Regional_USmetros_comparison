{
 "cells": [
  {
   "cell_type": "code",
   "execution_count": null,
   "metadata": {},
   "outputs": [],
   "source": []
  },
  {
   "cell_type": "markdown",
   "metadata": {},
   "source": [
    "## Total Housing from PEP housing 2017\n",
    "\n",
    "- Detailing on Population and Housing Estimates APIs: https://www.census.gov/data/developers/data-sets/popest-popproj/popest.2000-2010_Intercensals.html\n",
    "\n",
    "- [examples for /data/2017/pep/housing](https://api.census.gov/data/2017/pep/housing/examples.html)"
   ]
  },
  {
   "cell_type": "code",
   "execution_count": null,
   "metadata": {},
   "outputs": [],
   "source": [
    "# HU2017 data for all counties in the US\n",
    "totalHU17 = pd.read_json('https://api.census.gov/data/2017/pep/housing?get='+\n",
    "                         'HUEST,GEONAME&for=county:*&DATE=10')\n",
    "\n",
    "totalHU17.columns = totalHU17.iloc[0]\n",
    "totalHU17 = totalHU17[1:]\n",
    "\n",
    "totalHU17['state'] = totalHU17['state'].apply(lambda x: '{0:0>2}'.format(x))\n",
    "totalHU17['county'] = totalHU17['county'].apply(lambda x: '{0:0>3}'.format(x))\n",
    "totalHU17['STCO'] = totalHU17[['state', 'county']].apply(lambda x: ''.join(x), axis=1)\n",
    "\n",
    "totalHU17 = totalHU17.drop(['state', 'county','DATE'], axis=1)\n",
    "totalHU17.columns = ['TotalHousing17','Name', 'STCO']\n",
    "\n",
    "print(totalHU17.shape)\n",
    "totalHU17.head(20)"
   ]
  },
  {
   "cell_type": "markdown",
   "metadata": {},
   "source": [
    "## Total Housing 2010 PEP 2010 -- Not in use \n",
    "\n",
    "This data set is called \"int_housingunits 2000\" and it includes both 2000 and 2010 Census Decennials data.\n",
    "\n",
    "- API Call: api.census.gov/data/2000/pep/int_housingunits\n",
    "- [examples](https://api.census.gov/data/2000/pep/int_housingunits.html)\n",
    "- [variables](https://api.census.gov/data/2000/pep/int_housingunits/variables.html) in /data/2000/pep/int_housingunits/variables"
   ]
  },
  {
   "cell_type": "code",
   "execution_count": null,
   "metadata": {},
   "outputs": [],
   "source": [
    "# HU2010 data for all counties in the US, from PEP housing 2000-2010\n",
    "totalHU10 = pd.read_json('https://api.census.gov/data/2000/pep/int_housingunits?get='+\n",
    "                         'HUEST,GEONAME&for=county:*&DATE=10')\n",
    "\n",
    "totalHU10.columns = totalHU10.iloc[0]\n",
    "totalHU10 = totalHU10[1:]\n",
    "\n",
    "totalHU10['state'] = totalHU10['state'].apply(lambda x: '{0:0>2}'.format(x))\n",
    "totalHU10['county'] = totalHU10['county'].apply(lambda x: '{0:0>3}'.format(x))\n",
    "totalHU10['STCO'] = totalHU10[['state', 'county']].apply(lambda x: ''.join(x), axis=1)\n",
    "\n",
    "totalHU10 = totalHU10.drop(['state', 'county', 'DATE'], axis=1)\n",
    "totalHU10.columns = ['TotalHousing10','Name', 'STCO']\n",
    "\n",
    "print(totalHU10.shape)\n",
    "totalHU10.head()"
   ]
  },
  {
   "cell_type": "markdown",
   "metadata": {},
   "source": [
    "## Total Pop + Total Housing 2010 from US Census Bureau Decennial Census 2010"
   ]
  },
  {
   "cell_type": "code",
   "execution_count": null,
   "metadata": {},
   "outputs": [],
   "source": [
    "# total HU for all counties in the US, 2010\n",
    "totalHU10_sf = pd.read_json('https://api.census.gov/data/2010/sf1?get='+\n",
    "                            'P0010001,H00010001,NAME&for=county:*')\n",
    "totalHU10_sf.columns = totalHU10_sf.iloc[0]\n",
    "totalHU10_sf = totalHU10_sf[1:]\n",
    "\n",
    "totalHU10_sf['state'] = totalHU10_sf['state'].apply(lambda x: '{0:0>2}'.format(x))\n",
    "totalHU10_sf['county'] = totalHU10_sf['county'].apply(lambda x: '{0:0>3}'.format(x))\n",
    "totalHU10_sf['STCO'] = totalHU10_sf[['state', 'county']].apply(lambda x: ''.join(x), axis=1)\n",
    "\n",
    "totalHU10_sf = totalHU10_sf.drop(['state', 'county'], axis=1)\n",
    "totalHU10_sf.columns = ['TotalPop00','TotalHousing00','Name', 'STCO']\n",
    "\n",
    "print(totalHU10_sf.shape)\n",
    "totalHU10_sf.head()"
   ]
  },
  {
   "cell_type": "markdown",
   "metadata": {},
   "source": [
    "## Total Pop + Total Housing 2000 from US Census Bureau Decennial Census 2000"
   ]
  },
  {
   "cell_type": "code",
   "execution_count": null,
   "metadata": {},
   "outputs": [],
   "source": [
    "# total HU for all counties in the US, 2000\n",
    "totalHU00 = pd.read_json('https://api.census.gov/data/2000/sf1?get='+\n",
    "                         'P001001,H001001,NAME&for=county:*')\n",
    "totalHU00.columns = totalHU00.iloc[0]\n",
    "totalHU00 = totalHU00[1:]\n",
    "\n",
    "totalHU00['state'] = totalHU00['state'].apply(lambda x: '{0:0>2}'.format(x))\n",
    "totalHU00['county'] = totalHU00['county'].apply(lambda x: '{0:0>3}'.format(x))\n",
    "totalHU00['STCO'] = totalHU00[['state', 'county']].apply(lambda x: ''.join(x), axis=1)\n",
    "\n",
    "totalHU00 = totalHU00.drop(['state', 'county'], axis=1)\n",
    "totalHU00.columns = ['TotalPop00','TotalHousing00','Name', 'STCO']\n",
    "\n",
    "print(totalHU00.shape)\n",
    "totalHU00.head()"
   ]
  },
  {
   "cell_type": "code",
   "execution_count": null,
   "metadata": {},
   "outputs": [],
   "source": []
  },
  {
   "cell_type": "code",
   "execution_count": null,
   "metadata": {},
   "outputs": [],
   "source": []
  },
  {
   "cell_type": "markdown",
   "metadata": {},
   "source": [
    "## Housing change 00-17"
   ]
  },
  {
   "cell_type": "code",
   "execution_count": null,
   "metadata": {},
   "outputs": [],
   "source": [
    "Hou00_17 = totalHU00.merge(totalHU17, on='STCO')\n",
    "\n",
    "Hou00_17['TotalHousing17'] = Hou00_17['TotalHousing17'].astype(int)\n",
    "Hou00_17['TotalHousing00'] = Hou00_17['TotalHousing00'].astype(int)\n",
    "\n",
    "Hou00_17['NET00-17'] = Hou00_17['TotalHousing17'] - Hou00_17['TotalHousing00']\n",
    "Hou00_17['%00-17'] = (Hou00_17['TotalHousing17'] - Hou00_17['TotalHousing00']) \\\n",
    "                    / Hou00_17['TotalHousing00']\n",
    "\n",
    "Hou00_17 = Hou00_17.drop(['Name_x'], axis=1).set_index('Name_y')\n",
    "\n",
    "print(Hou00_17.shape)\n",
    "Hou00_17.head()"
   ]
  },
  {
   "cell_type": "code",
   "execution_count": null,
   "metadata": {},
   "outputs": [],
   "source": []
  }
 ],
 "metadata": {
  "kernelspec": {
   "display_name": "Python 3",
   "language": "python",
   "name": "python3"
  },
  "language_info": {
   "codemirror_mode": {
    "name": "ipython",
    "version": 3
   },
   "file_extension": ".py",
   "mimetype": "text/x-python",
   "name": "python",
   "nbconvert_exporter": "python",
   "pygments_lexer": "ipython3",
   "version": "3.5.5"
  }
 },
 "nbformat": 4,
 "nbformat_minor": 2
}
